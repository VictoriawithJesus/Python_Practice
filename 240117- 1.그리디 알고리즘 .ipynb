{
 "cells": [
  {
   "cell_type": "code",
   "execution_count": 2,
   "id": "85d071f3",
   "metadata": {},
   "outputs": [
    {
     "name": "stdout",
     "output_type": "stream",
     "text": [
      "2\n",
      "4\n",
      "5\n",
      "6\n"
     ]
    }
   ],
   "source": [
    "\n",
    "n = 1260\n",
    "count = 0\n",
    "\n",
    "# 큰 단위의 화폐부터 차례대로 확인\n",
    "coin_types = [500, 100, 50, 10]\n",
    "\n",
    "for coin in coin_types:\n",
    "    count += n // coin\n",
    "    # 해당 화폐로 거슬러 줄 수 있는 동전의 갯수 세기 ,\n",
    "    #n을 count로 coin으로 나누고 몫을 count에 추가하기 \n",
    "    n %= coin \n",
    "    print(count)"
   ]
  },
  {
   "cell_type": "code",
   "execution_count": null,
   "id": "9cb5cedb",
   "metadata": {},
   "outputs": [],
   "source": []
  },
  {
   "cell_type": "code",
   "execution_count": null,
   "id": "6c5b83e3",
   "metadata": {},
   "outputs": [],
   "source": []
  },
  {
   "cell_type": "code",
   "execution_count": null,
   "id": "6ac27b81",
   "metadata": {},
   "outputs": [],
   "source": [
    " count += n // coin "
   ]
  },
  {
   "cell_type": "code",
   "execution_count": null,
   "id": "3e1622e8",
   "metadata": {},
   "outputs": [],
   "source": [
    "이 코드는 Python에서 사용되는 축약된 표현 중 하나입니다. \n",
    "이 코드는 두 가지 기본적인 개념을 포함하고 있습니다: += 연산자와 // 연산자입니다.\n",
    "\n",
    "+= 연산자: 이는 덧셈 후 대입(assignment)을 나타내는 축약 표현입니다.\n",
    "count += n는 count = count + n과 동일합니다. 다시 말해, 현재 count의 값을 n만큼 증가시킵니다.\n",
    "\n",
    "// 연산자: 이는 나누기 후 소수점 이하를 버리고 몫만을 반환하는 정수 나눗셈 연산자입니다. \n",
    "    n // coin는 n을 coin으로 나눈 몫을 의미합니다.\n",
    "\n",
    "따라서 count += n // coin는 현재 count의 값에, n을 coin으로 나눈 몫을 더하는 것을 의미합니다. \n",
    "이 코드는 주로 동전 교환과 같은 상황에서 사용될 수 있습니다."
   ]
  },
  {
   "cell_type": "code",
   "execution_count": null,
   "id": "c2ac7b14",
   "metadata": {},
   "outputs": [],
   "source": [
    "n %= coin "
   ]
  },
  {
   "cell_type": "code",
   "execution_count": null,
   "id": "2bd9bc55",
   "metadata": {},
   "outputs": [],
   "source": [
    "n %= coin는 Python에서 사용되는 축약 표현 중 하나로, \n",
    "모듈로 연산자를 사용한 것입니다. 이 코드는 두 가지 기본 개념을 포함하고 있습니다:\n",
    "    \n",
    "    %= 연산자: 이는 나머지를 구한 후 대입(assignment)을 나타내는 축약 표현입니다. \n",
    "        \n",
    "        n %= coin은 n = n % coin과 동일합니다.\n",
    "        다시 말해, n을 coin으로 나눈 나머지를 n에 다시 대입합니다.\n",
    "        \n",
    " 따라서 n %= coin는 현재 n의 값을 coin으로 나눈 나머지로 갱신하는 것을 의미합니다.\n",
    "이 코드 역시 주로 동전 교환이나 다양한 알고리즘에서 사용될 수 있습니다."
   ]
  },
  {
   "cell_type": "code",
   "execution_count": null,
   "id": "aa8a9e2a",
   "metadata": {},
   "outputs": [],
   "source": []
  },
  {
   "cell_type": "code",
   "execution_count": null,
   "id": "314573b9",
   "metadata": {},
   "outputs": [],
   "source": []
  },
  {
   "cell_type": "code",
   "execution_count": null,
   "id": "9cec87ac",
   "metadata": {},
   "outputs": [],
   "source": [
    "큰 수의 법칙 \n",
    "\n",
    "ex )\n",
    "1. 순서대로 2,4,5,4,6으로 이루어진 배열이 있다.\n",
    "2. M = 8, K = 3이라고 가정\n",
    ": 이 경우 특정한 인덱스의 수가 연속해서 3번까지만 더해질 수 있으므로 \n",
    "    큰 수의 법칙의 결과 \n",
    "    6 + 6 + 6 + 5 + 6 + 6+ 6 + 5 = 46이 도출 \n",
    "    (M은 전체 인덱스 길이, K는 연속해서 나올 수 있는 횟수)\n",
    "    \n",
    "\n",
    "    \n",
    "    \n",
    "ex )\n",
    "1. 순서대로 3, 4, 3, 4, 3으로 이루어진 배열이 있다.\n",
    "2. M = 7, K = 2라고 가정 \n",
    ": 이 경우 두 번째 있는 '4'와 네 번째 있는 '4'는 다르다고 보기 때문에\n",
    "    4 + 4 + 4+ 4+ 4+ 4 +4 인 28이 도출 \n",
    "    \n",
    "    \n",
    "배열의 크기가 N, 숫자가 더해지는 횟수는 M,\n",
    "그리고 K가 주어질 때 동빈이의 큰 수에 법칙에 따른 결과를 출력해보자\n"
   ]
  },
  {
   "cell_type": "code",
   "execution_count": null,
   "id": "7e079683",
   "metadata": {},
   "outputs": [],
   "source": [
    "# EX ) 배열 [2 , 4, 5, 4, 6]\n",
    "N = 5 \n",
    "M = 8 \n",
    "K = 3 \n",
    "\n",
    "(N =5 배열의 크기? / 배열(더하는 길이는) 8 , K = 3,  3번 반복 가능, )\n",
    " DATA 2 4 5 4 6 "
   ]
  },
  {
   "cell_type": "code",
   "execution_count": null,
   "id": "8f8afae1",
   "metadata": {},
   "outputs": [],
   "source": [
    "조건 \n",
    "1)번째 줄 \n",
    "\n",
    "N(2<= N <= 1,000) \n",
    "M(1<= M <= 10,000)\n",
    "K(1<= K <= 10,000)\n",
    "\n",
    "자연수 N, M, K가 주어진다.\n",
    "각 자연수는 공백으로 구분한다.\n",
    "\n",
    "2)번째 줄\n",
    "'N개'의 자연수가 주어진다. 각 자연수는 공백으로 구분된다.\n",
    "단 각각의 자연수는 1 이상 10,000 이하의 수로 주어진다.\n",
    "\n",
    "3) 입력으로 주어지는 K는 항상 M보다 작거나 같다\n",
    "K <= M \n",
    "\n",
    "\n"
   ]
  },
  {
   "cell_type": "code",
   "execution_count": null,
   "id": "aea04a42",
   "metadata": {},
   "outputs": [],
   "source": [
    "#우선, N , M , K가 주어진다. 공백으로 구분하여 입력받는다\n",
    "\n",
    "n, m, k = map(int, input().split())\n",
    "\n",
    "#N개의 수를 공백으로 구분하여 입력받는다.\n",
    "data = list(map(int, input().split()))\n",
    "\n",
    "data.sort() #입력 받은 수를 정렬한다.\n",
    "\n",
    "#1. 입력 받은 수들을 정렬한다.\n",
    "first = data[n - 1] \n",
    "#가장 큰 수\n",
    "second = data[n - 2]\n",
    "#두 번째로 큰 수\n",
    "\n",
    "result = 0\n",
    "\n",
    "while True:\n",
    "    for i in range(k): \n",
    "        #가장 큰 수를 k번 더하기 \n",
    "        if m == 0: \n",
    "            # m이 0이라면 반복문을 탈출한다\n",
    "            break\n",
    "        result += first\n",
    "        m -= 1 \n",
    "        # 더할 때 마다 1씩 뺀다.\n",
    "        \n",
    "    if m == 0:\n",
    "        break\n",
    "        #m이 0이라면 반복문을 탈출한다. \n",
    "    \n",
    "    result += second \n",
    "        # 두 번쨰로 큰 수를 한 번 더합니다.\n",
    "        \n",
    "    m -= 1 \n",
    "        # 더할 때 마다 1씩 뺍니다.\n",
    "        \n",
    "print(result)"
   ]
  },
  {
   "cell_type": "code",
   "execution_count": null,
   "id": "24d1cae3",
   "metadata": {},
   "outputs": [],
   "source": [
    "n, m, k = map(int, input().split())\n"
   ]
  },
  {
   "cell_type": "markdown",
   "id": "91f9c986",
   "metadata": {},
   "source": [
    "이 코드는 사용자로부터 입력을 받아 세 개의 변수인 n, m, k에 할당하는 파이썬 코드입니다.\n",
    "\n",
    "input(): 이 함수는 사용자로부터 키보드로 직접 입력을 받습니다. \n",
    "사용자가 엔터 키를 누를 때까지 입력을 받습니다.\n",
    "\n",
    "split(): 이 메서드는 문자열을 공백을 기준으로 나누어 리스트로 반환합니다. \n",
    "예를 들어, 사용자가 \"3 5 7\"과 같이 공백으로 구분된 값을 입력하면, \n",
    "split()을 사용하면 리스트 ['3', '5', '7']가 반환됩니다.\n",
    "\n",
    "map(int, ...): map() 함수는 인자로 주어진 함수(여기서는 int)를 \n",
    "iterable(여기서는 split()으로 만든 리스트)의 각 요소에 적용합니다. \n",
    "따라서 각 문자열 값을 정수로 변환한 리스트가 생성됩니다.\n",
    "\n",
    "n, m, k = ...: 이 부분은 리스트의 첫 번째, 두 번째, 세 번째 요소를 각각 n, m, k에 할당하는 것을 의미합니다. 예를 들어, 사용자가 \"3 5 7\"을 입력했다면, 이 코드는 n에 3, m에 5, k에 7을 할당하게 됩니다.\n",
    "\n",
    "따라서 이 코드를 요약하면, 사용자로부터 공백으로 구분된 세 개의 정수를 입력받아\n",
    "각각 n, m, k에 할당하는 코드입니다."
   ]
  },
  {
   "cell_type": "code",
   "execution_count": null,
   "id": "4d23cd97",
   "metadata": {},
   "outputs": [],
   "source": []
  },
  {
   "cell_type": "code",
   "execution_count": null,
   "id": "6bc066d2",
   "metadata": {},
   "outputs": [],
   "source": [
    "data.sort(): 리스트 data를 크기순으로 정렬합니다. \n",
    "    이로써 리스트의 요소들이 작은 값부터 큰 값 순서로 배열됩니다."
   ]
  },
  {
   "cell_type": "code",
   "execution_count": null,
   "id": "4d055687",
   "metadata": {},
   "outputs": [],
   "source": []
  },
  {
   "cell_type": "code",
   "execution_count": null,
   "id": "5db7fae4",
   "metadata": {},
   "outputs": [],
   "source": []
  },
  {
   "cell_type": "code",
   "execution_count": null,
   "id": "de4f148d",
   "metadata": {},
   "outputs": [],
   "source": [
    "# EX ) 배열 [2 , 4, 5, 4, 6]\n",
    "N = 5 \n",
    "M = 8 \n",
    "K = 3 \n",
    "\n",
    "(N =5 배열의 크기? / M (만들어지는 길이) 8 , K = 3,  3번 반복 가능, )\n",
    " DATA 2 4 5 4 6\n",
    "    \n",
    "    RESULT  = 46 "
   ]
  },
  {
   "cell_type": "code",
   "execution_count": null,
   "id": "8e38402e",
   "metadata": {},
   "outputs": [],
   "source": [
    "# EX ) 배열 [3, 4, 3, 4, 3]\n",
    "N = 5\n",
    "M = 7 \n",
    "K = 2 \n",
    "(N = 5 , 배열의 크기 / M (만들어지는 길이) 7, / K =2)\n",
    "\n",
    "RESULT = 28\n"
   ]
  },
  {
   "cell_type": "code",
   "execution_count": null,
   "id": "3c37b778",
   "metadata": {},
   "outputs": [],
   "source": []
  },
  {
   "cell_type": "code",
   "execution_count": null,
   "id": "dded7257",
   "metadata": {},
   "outputs": [],
   "source": []
  },
  {
   "cell_type": "code",
   "execution_count": null,
   "id": "f3fa411a",
   "metadata": {},
   "outputs": [],
   "source": []
  },
  {
   "cell_type": "code",
   "execution_count": null,
   "id": "02fac423",
   "metadata": {},
   "outputs": [],
   "source": []
  },
  {
   "cell_type": "markdown",
   "id": "e9b56e20",
   "metadata": {},
   "source": [
    "#숫자 카드 게임\n",
    "-여러 개의 숫자 카드 중에서 가장 높은 숫자가 스인 카드 한 장을 뽑는 게임이다.\n",
    "\n",
    "게임의 룰은 다음과 같다. \n",
    "\n",
    "1. 숫자가 쓰인 카드 들이 N x M 의 형태로 놓여있다.\n",
    "\n",
    "이 때 N 의 행의 갯수, M 은 열의 갯수를 의미한다\n",
    "\n",
    "\n",
    "----------> M : 열의 갯수 \n",
    "3 1 2 \n",
    "4 1 4 \n",
    "2 2 2 \n",
    "\n",
    "\n",
    "2. 먼저 뽑고자 하는 카드가 포함되어있는 행을 선택한다. (N중 하나)\n",
    "\n",
    "3. 그 다음 선택된 행에 포함된 카드들 중 가장 숫자가 낮은 카드를 뽑는다.\n",
    "\n",
    "4. 3단계에서 가장 낮은 숫자를 뽑을 것을 고려하여, 위 예시에는 3행을 뽑아 '2'를 선택해야 \n",
    "정답이다. \n"
   ]
  },
  {
   "cell_type": "code",
   "execution_count": null,
   "id": "36fe26e9",
   "metadata": {},
   "outputs": [],
   "source": [
    "카드들이 N x M 형태로 놓여있을 때, 게임의 룰에 맞게 카드를 뽑는 프로그램을 만드시오\n"
   ]
  },
  {
   "cell_type": "code",
   "execution_count": null,
   "id": "9635a4b7",
   "metadata": {},
   "outputs": [],
   "source": [
    "<조건>\n",
    "1)번째 줄에는 숫자 카듣들이 놓인 행의 개수 N과 열의 개수 M이 공백을 기준으로 하여\n",
    "각각 자연수로 주어진다.\n",
    "\n",
    "(1 <= N,M <= 100)\n",
    "\n",
    "2번쨰) 줄 부터  N개의 줄에 걸쳐 각 카드에 적힌 숫자가 주어진다.\n",
    "각 숫자는 1 이상, 10,000이하의 자연수이다. \n",
    "\n",
    "출력 조건>\n",
    "1번째 줄에 게임의 룰에 맞게 선택한 카드에 적힌 숫자를 출력한다.\n"
   ]
  },
  {
   "cell_type": "code",
   "execution_count": null,
   "id": "9fc326fb",
   "metadata": {},
   "outputs": [],
   "source": [
    "#min()함수를 이용하는 답안 예씨\n",
    "\n",
    "n, m = map(int, input().split())\n",
    "#N, M 을 공백으로 구분하여 입력 받는다.\n",
    "\n",
    "result = 0\n",
    "#한 줄씩 입력받아 확인한다.\n",
    "\n",
    "for i in range(n):\n",
    "    data = list(map(int, input().split()))\n",
    "    \n",
    "    min_value = min(data)\n",
    "    #현재 줄에서 '가장 적은 수'를 찾는다.\n",
    "    \n",
    "    result = max(result, min_value)\n",
    "    \n",
    "print(result)"
   ]
  },
  {
   "cell_type": "code",
   "execution_count": null,
   "id": "ff24d9c9",
   "metadata": {},
   "outputs": [],
   "source": []
  },
  {
   "cell_type": "code",
   "execution_count": null,
   "id": "c1ba56ed",
   "metadata": {},
   "outputs": [],
   "source": [
    "result = max(result, min_value)"
   ]
  },
  {
   "cell_type": "markdown",
   "id": "a4121b94",
   "metadata": {},
   "source": [
    "이 코드는 두 개의 값을 비교하여 더 큰 값을 선택하는 방식으로 작동합니다. \n",
    "여기서 사용된 함수는 max()와 min()입니다. 코드를 해석해보면 다음과 같습니다:\n",
    "\n",
    "min_value는 어떤 값이든 될 수 있는 변수 또는 표현식입니다.\n",
    "\n",
    "result는 이전에 어딘가에서 정의된 변수일 것이며, 현재까지의 최종 결과를 나타낼 것입니다.\n",
    "\n",
    "min(result, min_value): 이 부분은 result와 min_value 중에서 작은 값을 반환합니다.\n",
    "\n",
    "max(result, min_value): 이 부분은 result와 min_value 중에서 큰 값을 반환합니다.\n",
    "\n",
    "result = max(result, min_value): 최종적으로 result에는 더 큰 값이 할당됩니다. \n",
    "다시 말해, 현재까지의 최종 결과(result)와 min_value 중에서 큰 값을 채택하게 됩니다."
   ]
  },
  {
   "cell_type": "code",
   "execution_count": null,
   "id": "0557a409",
   "metadata": {},
   "outputs": [],
   "source": []
  },
  {
   "cell_type": "code",
   "execution_count": null,
   "id": "226b1749",
   "metadata": {},
   "outputs": [],
   "source": []
  },
  {
   "cell_type": "code",
   "execution_count": null,
   "id": "b0359aa7",
   "metadata": {},
   "outputs": [],
   "source": [
    "#2중 반복문 구조를 이용하는 답안 예시\n",
    "\n",
    "n, m = map(int, input().split())\n",
    "#N,M 을 공백으로 구분하여 입력 받기\n",
    "\n",
    "result = 0\n",
    "#한 줄씩 입력받아 확인\n",
    "\n",
    "for i in range(n):\n",
    "    data = list(map(int, input().split()))\n",
    "    \n",
    "    min_value = 10001\n",
    "    \n",
    "    #현재 줄에서 '가장 작은 수' 찾기\n",
    "    \n",
    "    for a in data:\n",
    "        min_value = min(min_value, a)\n",
    "        #가장 작은 수들 중에서 가장 큰 수 찾기\n",
    "        \n",
    "    result = max(result, min_value)\n",
    "    \n",
    "print(result)"
   ]
  },
  {
   "cell_type": "code",
   "execution_count": null,
   "id": "4a6c6fff",
   "metadata": {},
   "outputs": [],
   "source": []
  },
  {
   "cell_type": "code",
   "execution_count": null,
   "id": "6407e15e",
   "metadata": {},
   "outputs": [],
   "source": []
  },
  {
   "cell_type": "code",
   "execution_count": null,
   "id": "56d8a4df",
   "metadata": {},
   "outputs": [],
   "source": []
  },
  {
   "cell_type": "code",
   "execution_count": null,
   "id": "2fa1d01c",
   "metadata": {},
   "outputs": [],
   "source": [
    "1이 될 때까지\n"
   ]
  },
  {
   "cell_type": "code",
   "execution_count": null,
   "id": "fced422c",
   "metadata": {},
   "outputs": [],
   "source": [
    "어떠한 수 N이 1이 될때까지,\n",
    "다음의 두 과정 중 하나를 반복적으로 선택하여 수행한다. \n",
    "단 두 번째 연산은 N이  K로 나누어질 때만 선택할 수 있다. (N % K = 0)\n",
    "\n",
    "1. N에서 1을 뺀다.\n",
    "2. N을 K로 나눈다. (N % K = 0 일때만)\n"
   ]
  },
  {
   "cell_type": "code",
   "execution_count": null,
   "id": "eefb0161",
   "metadata": {},
   "outputs": [],
   "source": [
    "EX) \n",
    "N이 17, K가 4라고 가정한다.\n",
    "1번의 과정을 한 번 수행하면 N은 16이 된다.\n",
    "\n",
    "0. N = 17, K =4 \n",
    "1. N = 16 , K =4 \n",
    "2. N = 4, K = 4\n",
    "3. N = 1 , K =4\n",
    "\n",
    "이 경우 전체과정을 실행한 횟수는 3이 된다.\n",
    "N을 1로 만드는 최소 횟수이다. \n",
    "\n",
    "N과 K가 주어질 떄 N이 1이 될 때 까지\n",
    "1번 혹은 2번의 과정을 수행하는 최소 횟수를 구하는 프로그램을 작성하시오\n"
   ]
  },
  {
   "cell_type": "code",
   "execution_count": null,
   "id": "1a9ba8fc",
   "metadata": {},
   "outputs": [],
   "source": [
    "조건)\n",
    "1)번째 줄에 N(2<=N<=100,000)과 K(2<=K<=100,000)가 공백으로 구분되며\n",
    "각각 자연수로 주어진다. \n",
    "이때 입력으로 주어지는 N은 항상 K보다 크거나 같다.\n",
    "\n",
    "출력조건>\n",
    "첫째 줄이 N이 1이 될 때까지\n",
    "1번 혹은 2번의 과정을 수행해야 하는 횟수의 최솟값을 출력한다.\n"
   ]
  },
  {
   "cell_type": "code",
   "execution_count": null,
   "id": "246f7872",
   "metadata": {},
   "outputs": [],
   "source": [
    "\n",
    "#N,K을 공백으로 구분하여 입력 받기\n",
    "n, k = map(int, input().split())\n",
    "\n",
    "result = 0\n",
    "count = 0 \n",
    "# ########################################3\n",
    "# while True:\n",
    "#     for i in n: \n",
    "#         #가장 큰 수를 k번 더하기 \n",
    "#         if m == 0: \n",
    "#             # m이 0이라면 반복문을 탈출한다\n",
    "#             break\n",
    "#         result += first\n",
    "#         m -= 1 \n",
    "#         # 더할 때 마다 1씩 뺀다.\n",
    "        \n",
    "#     if m == 0:\n",
    "#         break\n",
    "#         #m이 0이라면 반복문을 탈출한다. \n",
    "    \n",
    "#     result += second \n",
    "#         # 두 번쨰로 큰 수를 한 번 더합니다.\n",
    "        \n",
    "#     m -= 1 \n",
    "#         # 더할 때 마다 1씩 뺍니다.\n",
    "        \n",
    "print(result)"
   ]
  },
  {
   "cell_type": "code",
   "execution_count": null,
   "id": "0078e2b6",
   "metadata": {},
   "outputs": [],
   "source": [
    "#정의\n",
    "#N,K을 공백으로 구분하여 입력 받기\n",
    "n, k = map(int, input().split())\n",
    "\n",
    "result = 0\n",
    "\n",
    "while n >= k:\n",
    "    #전제조건, N이 K 이상이라면 K로 계속 나누기 \n",
    "    #N이 K로 나누어떨어지지 않는다면, N에서 1씩 빼기 \n",
    "    while n % k !=0:\n",
    "        n -= 1\n",
    "        result+=1\n",
    "\n",
    "#그렇지 않으면 N을 K로 나누기\n",
    "    n //= k\n",
    "    result +=1\n",
    "\n",
    "\n",
    "##N이 K보다 작을 경우, 그 나머지 수에 대해서 1씩 뺴기\n",
    "\n",
    "while n > 1:\n",
    "    n -= 1\n",
    "    result += 1\n",
    "    \n",
    "print(result)"
   ]
  },
  {
   "cell_type": "code",
   "execution_count": null,
   "id": "21601f53",
   "metadata": {},
   "outputs": [],
   "source": []
  }
 ],
 "metadata": {
  "kernelspec": {
   "display_name": "Python 3 (ipykernel)",
   "language": "python",
   "name": "python3"
  },
  "language_info": {
   "codemirror_mode": {
    "name": "ipython",
    "version": 3
   },
   "file_extension": ".py",
   "mimetype": "text/x-python",
   "name": "python",
   "nbconvert_exporter": "python",
   "pygments_lexer": "ipython3",
   "version": "3.9.13"
  }
 },
 "nbformat": 4,
 "nbformat_minor": 5
}
