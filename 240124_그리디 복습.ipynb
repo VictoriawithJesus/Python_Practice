{
 "cells": [
  {
   "cell_type": "markdown",
   "id": "833cff4c",
   "metadata": {},
   "source": [
    "1이 될 때 까지, \n",
    "어떠한 수가 1이 될 때 까지 \n",
    "다음의 두 과정 중 하나를 반복적으로 선택하여 수행한다. \n",
    "단 , 두번째 연산은 N이 K로 나누어질 때만 선택할 수 있다. (N % K == 0) \n",
    "\n",
    "\n",
    "[1] N에서 1을 뺀다\n",
    "[2]. N을 K로 나눈다 \n",
    "\n",
    "예문 ) \n",
    "N이 17, K가 4라고 가정한다.\n",
    "1번의 과정을 한 번 수행하면 N은 16이 된다.\n",
    "\n",
    "\n",
    "0. N = 17 , K = 4 \n",
    "1. N = 16 , \n",
    "2. N = 4 , \n",
    "3. N = 1 , \n",
    "\n",
    "N이 1이 되었네 "
   ]
  },
  {
   "cell_type": "markdown",
   "id": "4332c7fa",
   "metadata": {},
   "source": [
    "1. N과 k를 공백으로 구분하여 입력 받기 "
   ]
  },
  {
   "cell_type": "code",
   "execution_count": null,
   "id": "075af4ba",
   "metadata": {},
   "outputs": [],
   "source": [
    "#input() 함수와 split() <<함수, 그리고 map()함수를 사용 \n"
   ]
  },
  {
   "cell_type": "markdown",
   "id": "3244e31c",
   "metadata": {},
   "source": [
    "map(int, ...): map() 함수는 인자로 주어진 함수(여기서는 int)를 iterable(여기서는 split()으로 만든 리스트)의 각 요소에 적용합니다. 따라서 각 문자열 값을 정수로 변환한 리스트가 생성됩니다."
   ]
  },
  {
   "cell_type": "code",
   "execution_count": 1,
   "id": "bd79ea4a",
   "metadata": {},
   "outputs": [
    {
     "ename": "KeyboardInterrupt",
     "evalue": "Interrupted by user",
     "output_type": "error",
     "traceback": [
      "\u001b[1;31m---------------------------------------------------------------------------\u001b[0m",
      "\u001b[1;31mKeyboardInterrupt\u001b[0m                         Traceback (most recent call last)",
      "\u001b[1;32m~\\AppData\\Local\\Temp\\ipykernel_28728\\1867433755.py\u001b[0m in \u001b[0;36m<module>\u001b[1;34m\u001b[0m\n\u001b[1;32m----> 1\u001b[1;33m \u001b[0mn\u001b[0m\u001b[1;33m,\u001b[0m \u001b[0mk\u001b[0m \u001b[1;33m=\u001b[0m \u001b[0mmap\u001b[0m\u001b[1;33m(\u001b[0m\u001b[0mint\u001b[0m\u001b[1;33m,\u001b[0m \u001b[0minput\u001b[0m\u001b[1;33m(\u001b[0m\u001b[1;33m)\u001b[0m\u001b[1;33m.\u001b[0m\u001b[0msplit\u001b[0m\u001b[1;33m(\u001b[0m\u001b[1;33m)\u001b[0m\u001b[1;33m)\u001b[0m\u001b[1;33m\u001b[0m\u001b[1;33m\u001b[0m\u001b[0m\n\u001b[0m",
      "\u001b[1;32m~\\ANACONDA\\lib\\site-packages\\ipykernel\\kernelbase.py\u001b[0m in \u001b[0;36mraw_input\u001b[1;34m(self, prompt)\u001b[0m\n\u001b[0;32m   1175\u001b[0m                 \u001b[1;34m\"raw_input was called, but this frontend does not support input requests.\"\u001b[0m\u001b[1;33m\u001b[0m\u001b[1;33m\u001b[0m\u001b[0m\n\u001b[0;32m   1176\u001b[0m             )\n\u001b[1;32m-> 1177\u001b[1;33m         return self._input_request(\n\u001b[0m\u001b[0;32m   1178\u001b[0m             \u001b[0mstr\u001b[0m\u001b[1;33m(\u001b[0m\u001b[0mprompt\u001b[0m\u001b[1;33m)\u001b[0m\u001b[1;33m,\u001b[0m\u001b[1;33m\u001b[0m\u001b[1;33m\u001b[0m\u001b[0m\n\u001b[0;32m   1179\u001b[0m             \u001b[0mself\u001b[0m\u001b[1;33m.\u001b[0m\u001b[0m_parent_ident\u001b[0m\u001b[1;33m[\u001b[0m\u001b[1;34m\"shell\"\u001b[0m\u001b[1;33m]\u001b[0m\u001b[1;33m,\u001b[0m\u001b[1;33m\u001b[0m\u001b[1;33m\u001b[0m\u001b[0m\n",
      "\u001b[1;32m~\\ANACONDA\\lib\\site-packages\\ipykernel\\kernelbase.py\u001b[0m in \u001b[0;36m_input_request\u001b[1;34m(self, prompt, ident, parent, password)\u001b[0m\n\u001b[0;32m   1217\u001b[0m             \u001b[1;32mexcept\u001b[0m \u001b[0mKeyboardInterrupt\u001b[0m\u001b[1;33m:\u001b[0m\u001b[1;33m\u001b[0m\u001b[1;33m\u001b[0m\u001b[0m\n\u001b[0;32m   1218\u001b[0m                 \u001b[1;31m# re-raise KeyboardInterrupt, to truncate traceback\u001b[0m\u001b[1;33m\u001b[0m\u001b[1;33m\u001b[0m\u001b[0m\n\u001b[1;32m-> 1219\u001b[1;33m                 \u001b[1;32mraise\u001b[0m \u001b[0mKeyboardInterrupt\u001b[0m\u001b[1;33m(\u001b[0m\u001b[1;34m\"Interrupted by user\"\u001b[0m\u001b[1;33m)\u001b[0m \u001b[1;32mfrom\u001b[0m \u001b[1;32mNone\u001b[0m\u001b[1;33m\u001b[0m\u001b[1;33m\u001b[0m\u001b[0m\n\u001b[0m\u001b[0;32m   1220\u001b[0m             \u001b[1;32mexcept\u001b[0m \u001b[0mException\u001b[0m\u001b[1;33m:\u001b[0m\u001b[1;33m\u001b[0m\u001b[1;33m\u001b[0m\u001b[0m\n\u001b[0;32m   1221\u001b[0m                 \u001b[0mself\u001b[0m\u001b[1;33m.\u001b[0m\u001b[0mlog\u001b[0m\u001b[1;33m.\u001b[0m\u001b[0mwarning\u001b[0m\u001b[1;33m(\u001b[0m\u001b[1;34m\"Invalid Message:\"\u001b[0m\u001b[1;33m,\u001b[0m \u001b[0mexc_info\u001b[0m\u001b[1;33m=\u001b[0m\u001b[1;32mTrue\u001b[0m\u001b[1;33m)\u001b[0m\u001b[1;33m\u001b[0m\u001b[1;33m\u001b[0m\u001b[0m\n",
      "\u001b[1;31mKeyboardInterrupt\u001b[0m: Interrupted by user"
     ]
    }
   ],
   "source": [
    "n, k = map(int, input().split())"
   ]
  },
  {
   "cell_type": "markdown",
   "id": "45df44ce",
   "metadata": {},
   "source": [
    "1. N과 k를 공백으로 구분하여 입력 받기\n",
    "\n",
    "함수 사용 : input(), split(), map()\n",
    "\n",
    "input()은 입력 받기 위해,\n",
    "\n",
    "split()은 공백으로 구분 받기 위해 \n",
    "\n",
    "map()은 각 문자열 값을 정수로 변환한 리스트를 생성하기 위해 \n",
    "\n",
    "즉, 입력 받아서 리스트를 생성하기 위해 \n",
    "\n",
    "정수로 받기 위해서 map(int, ….) 지정 \n",
    "\n",
    "공백으로 구분하는 것이니 아무것도 안 넣어도 됨 split()"
   ]
  },
  {
   "cell_type": "code",
   "execution_count": null,
   "id": "8f83074a",
   "metadata": {},
   "outputs": [],
   "source": [
    "result = 0 \n",
    "#result 의 0 값을 넣어줘서, 횟수를 증가시킴 \n"
   ]
  },
  {
   "cell_type": "markdown",
   "id": "5eac1f32",
   "metadata": {},
   "source": [
    "전제조건\n",
    "1. N이 K 이상이라면 계속 나눈다 .\n",
    "-조건문 생성 (2중 while문 : n이 k보다 크거나 같을 경우에만 동작 ,\n",
    "여기서 세분화 , ㄱ) n이 k로 나누어 지지 않을 경우와 ㄴ) 나누어질 경우로 구분 \n",
    "\n",
    "while n >= k:\n",
    "\n",
    "이중 while문 ㄱ. n이 k로 나누어 지지 않을 경우 \n",
    "n % k != 0:\n",
    "1을 뺀다\n",
    "\n",
    "n -= 1 \n",
    "result += 1 \n",
    "\n",
    "2. 만약 나누어 질 경우에는 N을 K로 나눈다. \n",
    "n //= k\n",
    "result += 1 \n",
    "\n",
    "*빼거나 나누거나 모든 것을 진행 할 때는 RESULT에 1씩 더해준다. \n",
    "\n"
   ]
  },
  {
   "cell_type": "markdown",
   "id": "4146b4c5",
   "metadata": {},
   "source": [
    "일단 위 과정만 기록한다. 예외가 생길경우, 더 추가하는 식으로 간다."
   ]
  },
  {
   "cell_type": "code",
   "execution_count": null,
   "id": "0e0ff143",
   "metadata": {},
   "outputs": [],
   "source": [
    "result = 0 \n",
    "\n",
    "while n >= k:\n",
    "    while n % k!= 0:\n",
    "        n -= 1\n",
    "        result += 1\n",
    "    \n",
    "    \n",
    "    #그러지 않을 경우에는\n",
    "    n //= k \n",
    "    #n을 k로 나눈다.\n",
    "    \n",
    "    result +=1\n",
    "    \n",
    "    \n",
    "    "
   ]
  },
  {
   "cell_type": "markdown",
   "id": "ac22444f",
   "metadata": {},
   "source": [
    "#n이 k보다 작을 경우, 그 나머지 수에 대해서 1씩 뺀다.\n",
    "ex ) 예를 들어서, n이 2이고, k가 3일때는 \n",
    "\n",
    "위에 구문이 동작하지 않음 n >= k\n",
    "그렇게 될 경우 2에서 멈추기 때문에 \n",
    "\n",
    "n > 1 : \n",
    "\n",
    "- 위 구문 n이 k보다 크거나 같을 경우 \n",
    "- n 이 1보다 작을 경우\n",
    "이렇게 두 가지 유형으로 나눠서 진행\n",
    "\n",
    "- n 이 1보다 작을 경우\n",
    "만 적으면 됨 이제 \n",
    "\n",
    "while n > 1:\n",
    "    n -= 1\n",
    "    result += 1\n",
    "    \n",
    "    \n",
    "print(result)\n"
   ]
  },
  {
   "cell_type": "code",
   "execution_count": 3,
   "id": "044b54ec",
   "metadata": {},
   "outputs": [
    {
     "name": "stdout",
     "output_type": "stream",
     "text": [
      "20 2\n",
      "5\n"
     ]
    }
   ],
   "source": [
    "n, k = map(int, input().split())\n",
    "\n",
    "result = 0\n",
    "\n",
    "while n >= k:\n",
    "    while n % k != 0:\n",
    "        n -= 1\n",
    "        result += 1\n",
    "    \n",
    "    n //= k\n",
    "    result += 1\n",
    "    \n",
    "    \n",
    "while n > 1:\n",
    "    n -= 1\n",
    "    result += 1\n",
    "    \n",
    "print(result)"
   ]
  },
  {
   "cell_type": "markdown",
   "id": "6a1a1933",
   "metadata": {},
   "source": [
    "n = 20, k =2\n",
    "1. n = 10\n",
    "2. n = 5\n",
    "3. n = 4\n",
    "4. n = 2\n",
    "5. n = 1\n",
    "\n"
   ]
  },
  {
   "cell_type": "code",
   "execution_count": null,
   "id": "d98a02f8",
   "metadata": {},
   "outputs": [],
   "source": []
  },
  {
   "cell_type": "code",
   "execution_count": null,
   "id": "fd5ea100",
   "metadata": {},
   "outputs": [],
   "source": []
  }
 ],
 "metadata": {
  "kernelspec": {
   "display_name": "Python 3 (ipykernel)",
   "language": "python",
   "name": "python3"
  },
  "language_info": {
   "codemirror_mode": {
    "name": "ipython",
    "version": 3
   },
   "file_extension": ".py",
   "mimetype": "text/x-python",
   "name": "python",
   "nbconvert_exporter": "python",
   "pygments_lexer": "ipython3",
   "version": "3.9.13"
  }
 },
 "nbformat": 4,
 "nbformat_minor": 5
}
